{
 "cells": [
  {
   "cell_type": "code",
   "execution_count": 1,
   "metadata": {
    "collapsed": true
   },
   "outputs": [],
   "source": [
    "import numpy as np\n",
    "\n",
    "# seed random numbers to make calculation\n",
    "# deterministic (just a good practice)\n",
    "np.random.seed(1)"
   ]
  },
  {
   "cell_type": "code",
   "execution_count": 2,
   "metadata": {
    "collapsed": true
   },
   "outputs": [],
   "source": [
    "# sigmoid function\n",
    "def nonlin(x,deriv=False):\n",
    "    if(deriv==True):\n",
    "        return x*(1-x)\n",
    "    return 1/(1+np.exp(-x))"
   ]
  },
  {
   "cell_type": "code",
   "execution_count": 3,
   "metadata": {
    "collapsed": true
   },
   "outputs": [],
   "source": [
    "# input dataset\n",
    "X = np.array([  [0,0,1],\n",
    "                [0,1,1],\n",
    "                [1,0,1],\n",
    "                [1,1,1] ])\n",
    "    \n",
    "# output dataset            \n",
    "y = np.array([[0,0,1,1]]).T"
   ]
  },
  {
   "cell_type": "code",
   "execution_count": 4,
   "metadata": {},
   "outputs": [
    {
     "name": "stdout",
     "output_type": "stream",
     "text": [
      "syn0 : [-0.16595599  0.44064899 -0.99977125 -0.39533485 -0.70648822 -0.81532281\n",
      " -0.62747958 -0.30887855 -0.20646505  0.07763347 -0.16161097  0.370439\n",
      " -0.5910955   0.75623487 -0.94522481  0.34093502 -0.1653904   0.11737966\n",
      " -0.71922612 -0.60379702  0.60148914  0.93652315 -0.37315164  0.38464523\n",
      "  0.7527783   0.78921333 -0.82991158 -0.92189043 -0.66033916  0.75628501\n",
      " -0.80330633 -0.15778475  0.91577906  0.06633057  0.38375423 -0.36896874\n",
      "  0.37300186  0.66925134 -0.96342345  0.50028863][ 0.97772218  0.49633131 -0.43911202  0.57855866 -0.79354799 -0.10421295\n",
      "  0.81719101 -0.4127717  -0.42444932 -0.73994286 -0.96126608  0.35767107\n",
      " -0.57674377 -0.46890668 -0.01685368 -0.89327491  0.14823521 -0.70654285\n",
      "  0.17861107  0.39951672 -0.79533114 -0.17188802  0.38880032 -0.17164146\n",
      " -0.90009308  0.07179281  0.32758929  0.02977822  0.88918951  0.17311008\n",
      "  0.80680383 -0.72505059 -0.72144731  0.61478258 -0.20464633 -0.66929161\n",
      "  0.85501716 -0.30446828  0.50162421  0.45199597][ 0.76661218  0.24734441  0.50188487 -0.30220332 -0.46014422  0.79177244\n",
      " -0.14381762  0.92968009  0.326883    0.24339144 -0.77050805  0.89897852\n",
      " -0.10017573  0.15677923 -0.18372639 -0.52594604  0.80675904  0.14735897\n",
      " -0.99425935  0.23428983 -0.3467102   0.0541162   0.7718842  -0.28546048\n",
      "  0.8170703   0.24672023 -0.96835751  0.85887447  0.38179384  0.9946457\n",
      " -0.65531898 -0.7257285   0.86519093  0.39363632 -0.86799965  0.51092611\n",
      "  0.50775238  0.84604907  0.42304952 -0.75145808]\n",
      "syn1 : [-0.96023973 -0.94757803 -0.94338702 -0.50757786  0.7200559   0.07766213\n",
      "  0.10564396  0.68406178 -0.75165337 -0.44163264  0.17151854  0.9391915\n",
      "  0.12206044 -0.96270542  0.60126535 -0.53405145  0.61421039 -0.22427871\n",
      "  0.72708371  0.49424329  0.11248047 -0.72708955 -0.88016462 -0.75731309\n",
      " -0.91089624 -0.78501174 -0.54858132  0.42597796  0.11943396 -0.97488804][-0.85605144  0.93455266  0.13620092 -0.59341353 -0.49534851  0.48765171\n",
      " -0.60914104  0.16271785  0.94003998  0.6936576  -0.52030448 -0.01246057\n",
      "  0.23991144  0.6579618  -0.68641721 -0.9628476  -0.85995571 -0.02730978\n",
      "  0.21265892  0.13770287 -0.36527518  0.97723231  0.15949044 -0.23971765\n",
      "  0.10189644  0.49066886  0.33846579 -0.47016088 -0.86733033 -0.2598316 ][ 0.25943501 -0.57965198  0.50551111 -0.86692704 -0.4793698   0.60950913\n",
      " -0.61313143  0.27892176  0.04934062  0.84961594 -0.47340646 -0.86807782\n",
      "  0.47013193  0.54435606  0.81563171  0.86394414 -0.97209685 -0.53127583\n",
      "  0.23355671  0.89803264  0.90035224  0.11330638  0.8312127   0.28313242\n",
      " -0.21998457 -0.02801867  0.20862097  0.09909584  0.85236285  0.83746687]\n",
      "syn2 : [ 0.40106615][ 0.86111964][ 0.72523339]\n"
     ]
    }
   ],
   "source": [
    "# initialize weights randomly with mean 0\n",
    "syn0 = 2*np.random.random((3,40)) - 1\n",
    "print(\"syn0 : {}{}{}\".format(syn0[0], syn0[1], syn0[2]))\n",
    "\n",
    "syn1 = 2*np.random.random((40,30)) - 1\n",
    "print(\"syn1 : {}{}{}\".format(syn1[0], syn1[1], syn1[2]))\n",
    "\n",
    "syn2 = 2*np.random.random((30,1)) - 1\n",
    "print(\"syn2 : {}{}{}\".format(syn2[0], syn2[1], syn2[2]))"
   ]
  },
  {
   "cell_type": "code",
   "execution_count": 5,
   "metadata": {
    "scrolled": true
   },
   "outputs": [
    {
     "name": "stdout",
     "output_type": "stream",
     "text": [
      "Error:0.49982202024876304\n",
      "Error:0.0027162121595003816\n",
      "Error:0.0018652711703706958\n",
      "Error:0.0014996033599347846\n",
      "Error:0.0012853285425551547\n",
      "Error:0.0011408211727030547\n",
      "Error:0.0010351032601201983\n",
      "Error:0.0009535277997442697\n",
      "Error:0.0008881631764877603\n",
      "Error:0.0008342956649792454\n"
     ]
    }
   ],
   "source": [
    "for iter in range(100000):\n",
    "\n",
    "    # forward propagation\n",
    "    l0 = X\n",
    "    l1 = nonlin(np.dot(l0,syn0))\n",
    "    l2 = nonlin(np.dot(l1,syn1))\n",
    "    l3 = nonlin(np.dot(l2,syn2))\n",
    "\n",
    "    # how much did we miss the target value?\n",
    "    l3_error = y - l3\n",
    "    if (iter % 10000) == 0:\n",
    "        print (\"Error:{}\".format(np.mean(np.abs(l3_error))))\n",
    "    # in what direction is the target value?\n",
    "    # were we really sure? if so, don't change too much.\n",
    "    l3_delta = l3_error * nonlin(l3, deriv=True)\n",
    "\n",
    "    # how much did we miss?\n",
    "    l2_error = l3_delta.dot(syn2.T)\n",
    "    # multiply how much we missed by the \n",
    "    # slope of the sigmoid at the values in l1\n",
    "    l2_delta = l2_error * nonlin(l2, deriv=True)\n",
    "\n",
    "    # how much did we miss?\n",
    "    l1_error = l2_delta.dot(syn1.T)\n",
    "    # multiply how much we missed by the \n",
    "    # slope of the sigmoid at the values in l1\n",
    "    l1_delta = l1_error * nonlin(l1, deriv=True)\n",
    "\n",
    "    # update weights\n",
    "    syn2 += l2.T.dot(l3_delta)\n",
    "    syn1 += l1.T.dot(l2_delta)\n",
    "    syn0 += l0.T.dot(l1_delta)    "
   ]
  },
  {
   "cell_type": "code",
   "execution_count": 7,
   "metadata": {},
   "outputs": [
    {
     "name": "stdout",
     "output_type": "stream",
     "text": [
      "Output After Training:[[  8.35135320e-04]\n",
      " [  7.36526149e-04]\n",
      " [  9.99301118e-01]\n",
      " [  9.99114820e-01]]\n"
     ]
    }
   ],
   "source": [
    "print(\"Output After Training:{}\".format(l3))"
   ]
  }
 ],
 "metadata": {
  "kernelspec": {
   "display_name": "Python 3",
   "language": "python",
   "name": "python3"
  },
  "language_info": {
   "codemirror_mode": {
    "name": "ipython",
    "version": 3
   },
   "file_extension": ".py",
   "mimetype": "text/x-python",
   "name": "python",
   "nbconvert_exporter": "python",
   "pygments_lexer": "ipython3",
   "version": "3.5.2"
  }
 },
 "nbformat": 4,
 "nbformat_minor": 2
}
