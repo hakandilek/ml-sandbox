{
 "cells": [
  {
   "cell_type": "code",
   "execution_count": 1,
   "metadata": {
    "collapsed": true
   },
   "outputs": [],
   "source": [
    "import numpy as np\n",
    "\n",
    "# seed random numbers to make calculation\n",
    "# deterministic (just a good practice)\n",
    "np.random.seed(1)"
   ]
  },
  {
   "cell_type": "code",
   "execution_count": 2,
   "metadata": {
    "collapsed": true
   },
   "outputs": [],
   "source": [
    "# sigmoid function\n",
    "def nonlin(x,deriv=False):\n",
    "    if(deriv==True):\n",
    "        return x*(1-x)\n",
    "    return 1/(1+np.exp(-x))"
   ]
  },
  {
   "cell_type": "code",
   "execution_count": 3,
   "metadata": {
    "collapsed": true
   },
   "outputs": [],
   "source": [
    "# input dataset\n",
    "X = np.array([  [0,0,1],\n",
    "                [0,1,1],\n",
    "                [1,0,1],\n",
    "                [1,1,1] ])\n",
    "    \n",
    "# output dataset            \n",
    "y = np.array([[0,0,1,1]]).T"
   ]
  },
  {
   "cell_type": "code",
   "execution_count": 4,
   "metadata": {},
   "outputs": [
    {
     "name": "stdout",
     "output_type": "stream",
     "text": [
      "     : [-0.16595599] [ 0.44064899] [-0.99977125]\n"
     ]
    }
   ],
   "source": [
    "# initialize weights randomly with mean 0\n",
    "syn0 = 2*np.random.random((3,1)) - 1\n",
    "print(\"     : {} {} {}\".format(syn0[0], syn0[1], syn0[2]))"
   ]
  },
  {
   "cell_type": "code",
   "execution_count": 5,
   "metadata": {},
   "outputs": [
    {
     "name": "stdout",
     "output_type": "stream",
     "text": [
      "    0 : 0 0 0 0\n",
      "        0.12025405710936243 0.5045619608367021 -0.8506377412381663\n",
      " 1000 : 0 0 1 1\n",
      "        7.263909123535625 -0.21614178889484023 -3.4175742941445417\n",
      " 2000 : 0 0 1 1\n",
      "        8.002953169351555 -0.21312397359295893 -3.790039224123196\n",
      " 3000 : 0 0 1 1\n",
      "        8.428667245789496 -0.21151839499210925 -4.004340016893613\n",
      " 4000 : 0 0 1 1\n",
      "        8.728380615839683 -0.2104890552203377 -4.155094669488409\n",
      " 5000 : 0 0 1 1\n",
      "        8.959713979742236 -0.20975712174233047 -4.271389303511631\n",
      " 6000 : 0 0 1 1\n",
      "        9.14806878089329 -0.20920202302099017 -4.3660378181763395\n",
      " 7000 : 0 0 1 1\n",
      "        9.306900670145861 -0.2087621508262809 -4.44582422304815\n",
      " 8000 : 0 0 1 1\n",
      "        9.444200152360509 -0.20840232070400472 -4.514775259109356\n",
      " 9000 : 0 0 1 1\n",
      "        9.565100556316215 -0.20810078073406127 -4.575476797910619\n",
      "------------\n",
      "        9.672993027736892 -0.20784349926631962 -4.62963668773159\n"
     ]
    }
   ],
   "source": [
    "for iter in range(10000):\n",
    "\n",
    "    # forward propagation\n",
    "    l0 = X\n",
    "    l1 = nonlin(np.dot(l0,syn0))\n",
    "\n",
    "    # how much did we miss?\n",
    "    l1_error = y - l1\n",
    "\n",
    "    # multiply how much we missed by the \n",
    "    # slope of the sigmoid at the values in l1\n",
    "    l1_delta = l1_error * nonlin(l1,True)\n",
    "\n",
    "    # update weights\n",
    "    syn0 += np.dot(l0.T,l1_delta)\n",
    "    \n",
    "    if(iter %1000 == 0):\n",
    "        print(\"{:>5} : {:1.0f} {:1.0f} {:1.0f} {:1.0f}\".format(iter, l1[0][0], l1[1][0], l1[2][0], l1[3][0]))\n",
    "        print(\"        {} {} {}\".format(syn0[0][0], syn0[1][0], syn0[2][0]))\n",
    "print(\"------------\")\n",
    "print(\"        {} {} {}\".format(syn0[0][0], syn0[1][0], syn0[2][0]))        "
   ]
  },
  {
   "cell_type": "code",
   "execution_count": 6,
   "metadata": {},
   "outputs": [
    {
     "name": "stdout",
     "output_type": "stream",
     "text": [
      "        9.672993027736892 -0.20784349926631962 -4.62963668773159\n",
      "Output After Training:[[ 0.00966449]\n",
      " [ 0.00786506]\n",
      " [ 0.99358898]\n",
      " [ 0.99211957]]\n"
     ]
    }
   ],
   "source": [
    "print(\"        {} {} {}\".format(syn0[0][0], syn0[1][0], syn0[2][0]))        \n",
    "print(\"Output After Training:{}\".format(l1))"
   ]
  }
 ],
 "metadata": {
  "kernelspec": {
   "display_name": "Python 3",
   "language": "python",
   "name": "python3"
  },
  "language_info": {
   "codemirror_mode": {
    "name": "ipython",
    "version": 3
   },
   "file_extension": ".py",
   "mimetype": "text/x-python",
   "name": "python",
   "nbconvert_exporter": "python",
   "pygments_lexer": "ipython3",
   "version": "3.5.2"
  }
 },
 "nbformat": 4,
 "nbformat_minor": 2
}
