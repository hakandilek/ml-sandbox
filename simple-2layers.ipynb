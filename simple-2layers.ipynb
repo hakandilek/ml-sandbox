{
 "cells": [
  {
   "cell_type": "code",
   "execution_count": 1,
   "metadata": {
    "collapsed": true
   },
   "outputs": [],
   "source": [
    "import numpy as np\n",
    "\n",
    "# seed random numbers to make calculation\n",
    "# deterministic (just a good practice)\n",
    "np.random.seed(1)"
   ]
  },
  {
   "cell_type": "code",
   "execution_count": 2,
   "metadata": {
    "collapsed": true
   },
   "outputs": [],
   "source": [
    "# sigmoid function\n",
    "def nonlin(x,deriv=False):\n",
    "    if(deriv==True):\n",
    "        return x*(1-x)\n",
    "    return 1/(1+np.exp(-x))"
   ]
  },
  {
   "cell_type": "code",
   "execution_count": 3,
   "metadata": {
    "collapsed": true
   },
   "outputs": [],
   "source": [
    "# input dataset\n",
    "X = np.array([  [0,0,1],\n",
    "                [0,1,1],\n",
    "                [1,0,1],\n",
    "                [1,1,1] ])\n",
    "    \n",
    "# output dataset            \n",
    "y = np.array([[0,0,1,1]]).T"
   ]
  },
  {
   "cell_type": "code",
   "execution_count": 4,
   "metadata": {},
   "outputs": [
    {
     "name": "stdout",
     "output_type": "stream",
     "text": [
      "syn0 : [-0.16595599  0.44064899 -0.99977125 -0.39533485][-0.70648822 -0.81532281 -0.62747958 -0.30887855][-0.20646505  0.07763347 -0.16161097  0.370439  ]\n",
      "syn1 : [-0.5910955][ 0.75623487][-0.94522481]\n"
     ]
    }
   ],
   "source": [
    "# initialize weights randomly with mean 0\n",
    "syn0 = 2*np.random.random((3,4)) - 1\n",
    "print(\"syn0 : {}{}{}\".format(syn0[0], syn0[1], syn0[2]))\n",
    "\n",
    "syn1 = 2*np.random.random((4,1)) - 1\n",
    "print(\"syn1 : {}{}{}\".format(syn1[0], syn1[1], syn1[2]))"
   ]
  },
  {
   "cell_type": "code",
   "execution_count": 5,
   "metadata": {},
   "outputs": [
    {
     "name": "stdout",
     "output_type": "stream",
     "text": [
      "Error:0.4685343254580603\n",
      "    0 : 0 0 0 0\n",
      "        -0.19474898046058103 -0.7043655643528777 -0.2032300204902049\n",
      " 1000 : 1 0 0 0\n",
      "        -2.0394969666438727 -0.46132955854729546 0.45640832864079167\n",
      " 2000 : 1 1 0 0\n",
      "        -2.1698164646844567 -0.4364985833317357 0.5338967022197866\n",
      " 3000 : 1 1 0 0\n",
      "        -2.2430921278102787 -0.42189462848924997 0.5780673800705658\n",
      " 4000 : 1 1 0 0\n",
      "        -2.2940889182985416 -0.41151510931495183 0.6090085439090623\n",
      " 5000 : 1 1 0 0\n",
      "        -2.333167933898553 -0.40346307300085793 0.6328110414706011\n",
      " 6000 : 1 1 0 0\n",
      "        -2.3648244334752015 -0.3968883763244857 0.6521424639075575\n",
      " 7000 : 1 1 0 0\n",
      "        -2.3914152956801162 -0.39133551686180557 0.6684102837936808\n",
      " 8000 : 1 1 0 0\n",
      "        -2.4143298278846737 -0.3865317074917174 0.6824480044898511\n",
      " 9000 : 1 1 0 0\n",
      "        -2.4344555193178254 -0.38230055793134476 0.6947899730493684\n",
      "------------\n",
      "        -2.452376636471963 -0.3785249849173908 0.7057888061852686\n"
     ]
    }
   ],
   "source": [
    "for iter in range(10000):\n",
    "\n",
    "    # forward propagation\n",
    "    l0 = X\n",
    "    l1 = nonlin(np.dot(l0,syn0))\n",
    "    l2 = nonlin(np.dot(l1,syn1))\n",
    "\n",
    "    # how much did we miss the target value?\n",
    "    l2_error = y - l2\n",
    "    if (iter % 10000) == 0:\n",
    "        print (\"Error:{}\".format(np.mean(np.abs(l2_error))))\n",
    "        \n",
    "    # in what direction is the target value?\n",
    "    # were we really sure? if so, don't change too much.\n",
    "    l2_delta = l2_error * nonlin(l2, deriv=True)\n",
    "\n",
    "    # how much did we miss?\n",
    "    l1_error = l2_delta.dot(syn1.T)\n",
    "    # multiply how much we missed by the \n",
    "    # slope of the sigmoid at the values in l1\n",
    "    l1_delta = l1_error * nonlin(l1, deriv=True)\n",
    "\n",
    "    # update weights\n",
    "    syn1 += l1.T.dot(l2_delta)\n",
    "    syn0 += l0.T.dot(l1_delta)\n",
    "    \n",
    "    if(iter %1000 == 0):\n",
    "        print(\"{:>5} : {:1.0f} {:1.0f} {:1.0f} {:1.0f}\".format(iter, l1[0][0], l1[1][0], l1[2][0], l1[3][0]))\n",
    "        print(\"        {} {} {}\".format(syn0[0][0], syn0[1][0], syn0[2][0]))\n",
    "print(\"------------\")\n",
    "print(\"        {} {} {}\".format(syn0[0][0], syn0[1][0], syn0[2][0]))        "
   ]
  },
  {
   "cell_type": "code",
   "execution_count": 6,
   "metadata": {},
   "outputs": [
    {
     "name": "stdout",
     "output_type": "stream",
     "text": [
      "syn0 : [-2.45237664  4.24246073 -4.51602703  0.20084556][-0.37852498 -0.46226218  0.03227375 -0.22607559][ 0.70578881 -1.40848121  1.82311171  0.44840252]\n",
      "syn1 : [-2.73124389][ 6.00597609][-5.78228268]\n",
      "Output After Training:[[ 0.00510229]\n",
      " [ 0.00421887]\n",
      " [ 0.99493875]\n",
      " [ 0.99437164]]\n"
     ]
    }
   ],
   "source": [
    "print(\"syn0 : {}{}{}\".format(syn0[0], syn0[1], syn0[2]))\n",
    "print(\"syn1 : {}{}{}\".format(syn1[0], syn1[1], syn1[2]))\n",
    "\n",
    "print(\"Output After Training:{}\".format(l2))"
   ]
  }
 ],
 "metadata": {
  "kernelspec": {
   "display_name": "Python 3",
   "language": "python",
   "name": "python3"
  },
  "language_info": {
   "codemirror_mode": {
    "name": "ipython",
    "version": 3
   },
   "file_extension": ".py",
   "mimetype": "text/x-python",
   "name": "python",
   "nbconvert_exporter": "python",
   "pygments_lexer": "ipython3",
   "version": "3.5.2"
  }
 },
 "nbformat": 4,
 "nbformat_minor": 2
}
